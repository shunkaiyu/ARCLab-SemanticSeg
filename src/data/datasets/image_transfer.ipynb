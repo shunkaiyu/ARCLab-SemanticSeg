{
 "cells": [
  {
   "cell_type": "code",
   "execution_count": 16,
   "id": "0e207902",
   "metadata": {},
   "outputs": [],
   "source": [
    "import glob\n",
    "import shutil\n",
    "import os"
   ]
  },
  {
   "cell_type": "code",
   "execution_count": 26,
   "id": "86ed4198",
   "metadata": {},
   "outputs": [],
   "source": [
    "s = [\"cholec_24t35\",\"cholec_37t55\"]\n",
    "t = [\"train\",\"trainval\",\"test\"]\n",
    "d = [\"cholec_2\",\"cholec_3\"]"
   ]
  },
  {
   "cell_type": "code",
   "execution_count": 30,
   "id": "0c9e8b14",
   "metadata": {},
   "outputs": [],
   "source": [
    "for name,target in zip(s,d):\n",
    "    for sets in t:\n",
    "        src_dir = \"/home/arcseg/Desktop/Shunkai-working/src/data/datasets/\"+name+\"/\"+sets+\"/groundtruth\"\n",
    "        dst_dir = \"/home/arcseg/Desktop/Shunkai-working/src/data/datasets/\"+target+\"/groundtruth\"\n",
    "        for pngfile in glob.iglob(os.path.join(src_dir, \"*.png\")):\n",
    "            shutil.copy(pngfile, dst_dir) "
   ]
  },
  {
   "cell_type": "code",
   "execution_count": null,
   "id": "b5f0561d",
   "metadata": {},
   "outputs": [],
   "source": []
  },
  {
   "cell_type": "code",
   "execution_count": 11,
   "id": "3bf5bed4",
   "metadata": {},
   "outputs": [],
   "source": [
    "src_dir = \"/home/arcseg/Desktop/Shunkai-working/src/data/datasets/cholec_1t20/test/images\"\n",
    "dst_dir = \"/home/arcseg/Desktop/Shunkai-working/src/data/datasets/cholec_1/images\"\n",
    "for pngfile in glob.iglob(os.path.join(src_dir, \"*.png\")):\n",
    "    shutil.copy(pngfile, dst_dir)"
   ]
  },
  {
   "cell_type": "code",
   "execution_count": 15,
   "id": "dad12a55",
   "metadata": {},
   "outputs": [],
   "source": [
    "src_dir = \"/home/arcseg/Desktop/Shunkai-working/src/data/datasets/cholec_1t20/test/groundtruth\"\n",
    "dst_dir = \"/home/arcseg/Desktop/Shunkai-working/src/data/datasets/cholec_1/groundtruth\"\n",
    "for pngfile in glob.iglob(os.path.join(src_dir, \"*.png\")):\n",
    "    shutil.copy(pngfile, dst_dir)"
   ]
  },
  {
   "cell_type": "code",
   "execution_count": 31,
   "id": "5fdd5f5c",
   "metadata": {},
   "outputs": [
    {
     "name": "stdout",
     "output_type": "stream",
     "text": [
      "1.8.0+cu111\n"
     ]
    }
   ],
   "source": [
    "import torch\n",
    "\n",
    "print(torch.__version__)"
   ]
  },
  {
   "cell_type": "code",
   "execution_count": null,
   "id": "e7c275e5",
   "metadata": {},
   "outputs": [],
   "source": []
  }
 ],
 "metadata": {
  "kernelspec": {
   "display_name": "Python 3 (ipykernel)",
   "language": "python",
   "name": "python3"
  },
  "language_info": {
   "codemirror_mode": {
    "name": "ipython",
    "version": 3
   },
   "file_extension": ".py",
   "mimetype": "text/x-python",
   "name": "python",
   "nbconvert_exporter": "python",
   "pygments_lexer": "ipython3",
   "version": "3.8.11"
  }
 },
 "nbformat": 4,
 "nbformat_minor": 5
}
